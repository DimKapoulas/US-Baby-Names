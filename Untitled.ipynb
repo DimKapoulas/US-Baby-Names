{
 "cells": [
  {
   "cell_type": "markdown",
   "metadata": {},
   "source": [
    "## 1. Babynames analysis - A first look\n",
    "<p><a  href=\"https://www.ssa.gov/\">The United States Social Security Administration</a> has made available data on the frequency of baby names from 1880 through present. Despite the first impression, this a really interesting dataset which offers great opportunities for exploration and visualization.</p>\n",
    "    <img src=\"https://encrypted-tbn0.gstatic.com/images?q=tbn%3AANd9GcRxncVEtnFae2H1JzJ1KScJPtsHaEPjRu67VA&usqp=CAU\" height=\"200\" width=\"250\">\n",
    "<p>The dataset is update once per year <a href=\" http://www.ssa.gov/oact/babynames/limits.html\">here</a>. So to get us started we will import our data. If someone took a look to the dataset contained in the <em>dataset/babynames</em>, he or she would see that we have values values separated with comma, so our import is pretty straigthforward. So let's have a first look in our dataset!</p>"
   ]
  },
  {
   "cell_type": "code",
   "execution_count": 1,
   "metadata": {},
   "outputs": [
    {
     "data": {
      "text/html": [
       "<div>\n",
       "<style scoped>\n",
       "    .dataframe tbody tr th:only-of-type {\n",
       "        vertical-align: middle;\n",
       "    }\n",
       "\n",
       "    .dataframe tbody tr th {\n",
       "        vertical-align: top;\n",
       "    }\n",
       "\n",
       "    .dataframe thead th {\n",
       "        text-align: right;\n",
       "    }\n",
       "</style>\n",
       "<table border=\"1\" class=\"dataframe\">\n",
       "  <thead>\n",
       "    <tr style=\"text-align: right;\">\n",
       "      <th></th>\n",
       "      <th>Mary</th>\n",
       "      <th>F</th>\n",
       "      <th>7065</th>\n",
       "    </tr>\n",
       "  </thead>\n",
       "  <tbody>\n",
       "    <tr>\n",
       "      <th>0</th>\n",
       "      <td>Anna</td>\n",
       "      <td>F</td>\n",
       "      <td>2604</td>\n",
       "    </tr>\n",
       "    <tr>\n",
       "      <th>1</th>\n",
       "      <td>Emma</td>\n",
       "      <td>F</td>\n",
       "      <td>2003</td>\n",
       "    </tr>\n",
       "    <tr>\n",
       "      <th>2</th>\n",
       "      <td>Elizabeth</td>\n",
       "      <td>F</td>\n",
       "      <td>1939</td>\n",
       "    </tr>\n",
       "    <tr>\n",
       "      <th>3</th>\n",
       "      <td>Minnie</td>\n",
       "      <td>F</td>\n",
       "      <td>1746</td>\n",
       "    </tr>\n",
       "    <tr>\n",
       "      <th>4</th>\n",
       "      <td>Margaret</td>\n",
       "      <td>F</td>\n",
       "      <td>1578</td>\n",
       "    </tr>\n",
       "  </tbody>\n",
       "</table>\n",
       "</div>"
      ],
      "text/plain": [
       "        Mary  F  7065\n",
       "0       Anna  F  2604\n",
       "1       Emma  F  2003\n",
       "2  Elizabeth  F  1939\n",
       "3     Minnie  F  1746\n",
       "4   Margaret  F  1578"
      ]
     },
     "execution_count": 1,
     "metadata": {},
     "output_type": "execute_result"
    }
   ],
   "source": [
    "import pandas as pd\n",
    "from IPython import display\n",
    "\n",
    "# Import data, print first rows\n",
    "names1880 = pd.read_csv(\"./datasets/babynames/yob1880.txt\")\n",
    "names1880.head()"
   ]
  },
  {
   "cell_type": "code",
   "execution_count": null,
   "metadata": {},
   "outputs": [],
   "source": []
  }
 ],
 "metadata": {
  "kernelspec": {
   "display_name": "maths",
   "language": "python",
   "name": "maths"
  },
  "language_info": {
   "codemirror_mode": {
    "name": "ipython",
    "version": 3
   },
   "file_extension": ".py",
   "mimetype": "text/x-python",
   "name": "python",
   "nbconvert_exporter": "python",
   "pygments_lexer": "ipython3",
   "version": "3.8.5"
  }
 },
 "nbformat": 4,
 "nbformat_minor": 4
}
